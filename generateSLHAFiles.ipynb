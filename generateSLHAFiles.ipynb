{
 "cells": [
  {
   "cell_type": "code",
   "execution_count": 1,
   "metadata": {},
   "outputs": [],
   "source": [
    "import numpy as np\n",
    "import subprocess\n",
    "import os,glob,shutil\n",
    "import tarfile"
   ]
  },
  {
   "cell_type": "markdown",
   "metadata": {},
   "source": [
    "## Create SLHA files from a txname template"
   ]
  },
  {
   "cell_type": "markdown",
   "metadata": {},
   "source": [
    "### Template file:"
   ]
  },
  {
   "cell_type": "code",
   "execution_count": 2,
   "metadata": {},
   "outputs": [],
   "source": [
    "template = './wino_template.slha'"
   ]
  },
  {
   "cell_type": "markdown",
   "metadata": {},
   "source": [
    "### Lines to be replaced"
   ]
  },
  {
   "cell_type": "code",
   "execution_count": 3,
   "metadata": {},
   "outputs": [],
   "source": [
    "lines = ['   1000022     5.99716797E+02   #  z1ss','   1000024     5.99890015E+02   #  w1ss',\n",
    "         'DECAY   1000024  6.6e-16   # W1SS+ decays']\n",
    "newlines = ['   1000022     %1.3f           # ~chi_10','   1000024     %1.3f               # ~chi_1+',\n",
    "         'DECAY   1000024     %1.3e               # chargino1']\n",
    "\n",
    "#Check if lines exist\n",
    "with open(template,'r') as f:\n",
    "    flines = f.readlines()\n",
    "    for l in lines:\n",
    "        if not any(l in lf for lf in flines):\n",
    "            print('Line:\\n %s \\n not found in %s' %(l,template))"
   ]
  },
  {
   "cell_type": "markdown",
   "metadata": {},
   "source": [
    "### Parameters to generate files"
   ]
  },
  {
   "cell_type": "code",
   "execution_count": 4,
   "metadata": {},
   "outputs": [],
   "source": [
    "m1 = np.arange(100.,700.,50.)\n",
    "width = np.logspace(-17,-13,30)\n",
    "filename = 'TDTM1M2F_%1.0f_%1.1e_%1.0f_%1.0f_%1.1e_%1.0f.slha'\n",
    "tempFolder = 'TDTM1M2F_slha'\n",
    "tarball = 'TDTM1M2F.tar.gz'\n",
    "if not os.path.isdir(tempFolder):\n",
    "    os.mkdir(tempFolder)"
   ]
  },
  {
   "cell_type": "code",
   "execution_count": 5,
   "metadata": {},
   "outputs": [
    {
     "name": "stdout",
     "output_type": "stream",
     "text": [
      "360 files created\n"
     ]
    }
   ],
   "source": [
    "with open(template,'r') as f:\n",
    "    data = f.read()\n",
    "\n",
    "files = []\n",
    "for m in m1:    \n",
    "    for w in width:\n",
    "        \n",
    "        #Define relations (constraints) between parameters\n",
    "        m0 = m-0.5 #LSP mass\n",
    "        \n",
    "        #New file name\n",
    "        fnew = os.path.join(tempFolder,filename %(m,w,m0,m,w,m0))\n",
    "        \n",
    "        #Define values to be replaced\n",
    "        values = [m0,m,w] #Values should be sorted according to the ordering in lines\n",
    "        \n",
    "        #Replace lines\n",
    "        dataNew = data[:]\n",
    "        for l,newl,v in zip(lines,newlines,values):          \n",
    "            dataNew = dataNew.replace(l, newl %v)\n",
    "\n",
    "        #Write new file\n",
    "        with open(fnew,'w') as ff:\n",
    "            ff.write(dataNew+'\\n')\n",
    "            fullPath = os.path.abspath(fnew)\n",
    "            #Add ref cross-sections\n",
    "#            c = subprocess.run(\"./addRefXSecs.py -f %s -p 1000021 -q 1000021 -s 13\" %fullPath,\n",
    "#                                cwd=\"./slha\",capture_output=True,shell=True)\n",
    "            #or compute xsecs:\n",
    "            c = subprocess.run(\"./smodelsTools.py xseccomputer -f %s -s 13 -8 -p\" %fullPath,\n",
    "                               cwd=os.path.expanduser('~/smodels'),capture_output=True,shell=True)\n",
    "    \n",
    "        files.append(fullPath)\n",
    "print('%i files created' %len(files))"
   ]
  },
  {
   "cell_type": "markdown",
   "metadata": {},
   "source": [
    "### Create tarball and remove temp folder"
   ]
  },
  {
   "cell_type": "code",
   "execution_count": 6,
   "metadata": {},
   "outputs": [],
   "source": [
    "with tarfile.open(tarball, \"w:gz\") as tar:\n",
    "    tar.add(tempFolder, arcname='.')\n",
    "# shutil.rmtree(tempFolder)    "
   ]
  },
  {
   "cell_type": "code",
   "execution_count": null,
   "metadata": {},
   "outputs": [],
   "source": []
  }
 ],
 "metadata": {
  "kernelspec": {
   "display_name": "Python 3",
   "language": "python",
   "name": "python3"
  },
  "language_info": {
   "codemirror_mode": {
    "name": "ipython",
    "version": 3
   },
   "file_extension": ".py",
   "mimetype": "text/x-python",
   "name": "python",
   "nbconvert_exporter": "python",
   "pygments_lexer": "ipython3",
   "version": "3.8.6"
  }
 },
 "nbformat": 4,
 "nbformat_minor": 4
}
